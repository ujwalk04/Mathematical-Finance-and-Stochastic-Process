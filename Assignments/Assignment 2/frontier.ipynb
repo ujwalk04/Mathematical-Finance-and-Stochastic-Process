{
  "nbformat": 4,
  "nbformat_minor": 0,
  "metadata": {
    "colab": {
      "name": "frontier.ipynb",
      "provenance": [],
      "collapsed_sections": []
    },
    "kernelspec": {
      "name": "python3",
      "display_name": "Python 3"
    },
    "language_info": {
      "name": "python"
    }
  },
  "cells": [
    {
      "cell_type": "markdown",
      "metadata": {
        "id": "dIqwPo89eoQp"
      },
      "source": [
        "# **ASSIGNMENT 2: Portfolio Frontier Plot**"
      ]
    },
    {
      "cell_type": "markdown",
      "metadata": {
        "id": "ne4HHHlre0Hb"
      },
      "source": [
        "## Importing libraries"
      ]
    },
    {
      "cell_type": "code",
      "metadata": {
        "id": "4jiZdJasnHBD"
      },
      "source": [
        "import pandas as pd\n",
        "import matplotlib.pyplot as plt\n",
        "import numpy as np"
      ],
      "execution_count": 3,
      "outputs": []
    },
    {
      "cell_type": "markdown",
      "metadata": {
        "id": "riIKJlYhfCRk"
      },
      "source": [
        "## Importing datsets"
      ]
    },
    {
      "cell_type": "markdown",
      "metadata": {
        "id": "dtSLTlsvfObu"
      },
      "source": [
        "Stocks data of three companies : Google , Hindustan Unilever , Reliance Industries\n",
        "\n",
        "The stock data is of one year , i.e. 15th June 2020 - 15th June 2021."
      ]
    },
    {
      "cell_type": "code",
      "metadata": {
        "colab": {
          "base_uri": "https://localhost:8080/"
        },
        "id": "zF11wtKZuJ7t",
        "outputId": "a8d650e1-d343-42c0-bab4-7639cf8c0b8a"
      },
      "source": [
        "google=pd.read_csv(\"GOOG.csv\",index_col=\"Date\")\n",
        "\n",
        "google.drop([\"Open\",\"Close\",\"High\",\"Low\",\"Volume\"],axis=1,inplace=True)\n",
        "hul=pd.read_csv(\"hul.csv\",index_col=\"Date\")\n",
        "\n",
        "hul.drop([\"Open\",\"Close\",\"High\",\"Low\",\"Volume\"],axis=1,inplace=True)\n",
        "rel=pd.read_csv(\"rel.csv\",index_col=\"Date\")\n",
        "rel.head()\n",
        "rel.drop([\"Open\",\"Close\",\"High\",\"Low\",\"Volume\"],axis=1,inplace=True)\n",
        "print(google.shape)\n",
        "print(hul.shape)"
      ],
      "execution_count": 5,
      "outputs": [
        {
          "output_type": "stream",
          "text": [
            "(252, 1)\n",
            "(251, 1)\n"
          ],
          "name": "stdout"
        }
      ]
    },
    {
      "cell_type": "code",
      "metadata": {
        "id": "nqwboNeGf7xN"
      },
      "source": [
        ""
      ],
      "execution_count": null,
      "outputs": []
    },
    {
      "cell_type": "markdown",
      "metadata": {
        "id": "p6pDmYkHgl2m"
      },
      "source": [
        "Merging the three different dataframes into one dataframe."
      ]
    },
    {
      "cell_type": "code",
      "metadata": {
        "colab": {
          "base_uri": "https://localhost:8080/",
          "height": 419
        },
        "id": "6vXaWBjauxMx",
        "outputId": "28095020-5344-4fd3-ee63-b588158a9bd7"
      },
      "source": [
        "google.reset_index(drop=True, inplace=True)\n",
        "hul.reset_index(drop=True, inplace=True)\n",
        "rel.reset_index(drop=True, inplace=True)\n",
        "stocks=pd.concat([google,hul,rel],axis=1)\n",
        "stocks.columns=['Google','HUL',\"Reliance\"]\n",
        "stocks.dropna(inplace=True)\n",
        "stocks"
      ],
      "execution_count": 6,
      "outputs": [
        {
          "output_type": "execute_result",
          "data": {
            "text/html": [
              "<div>\n",
              "<style scoped>\n",
              "    .dataframe tbody tr th:only-of-type {\n",
              "        vertical-align: middle;\n",
              "    }\n",
              "\n",
              "    .dataframe tbody tr th {\n",
              "        vertical-align: top;\n",
              "    }\n",
              "\n",
              "    .dataframe thead th {\n",
              "        text-align: right;\n",
              "    }\n",
              "</style>\n",
              "<table border=\"1\" class=\"dataframe\">\n",
              "  <thead>\n",
              "    <tr style=\"text-align: right;\">\n",
              "      <th></th>\n",
              "      <th>Google</th>\n",
              "      <th>HUL</th>\n",
              "      <th>Reliance</th>\n",
              "    </tr>\n",
              "  </thead>\n",
              "  <tbody>\n",
              "    <tr>\n",
              "      <th>0</th>\n",
              "      <td>1419.849976</td>\n",
              "      <td>2033.386597</td>\n",
              "      <td>1603.352539</td>\n",
              "    </tr>\n",
              "    <tr>\n",
              "      <th>1</th>\n",
              "      <td>1442.719971</td>\n",
              "      <td>2025.630859</td>\n",
              "      <td>1606.480469</td>\n",
              "    </tr>\n",
              "    <tr>\n",
              "      <th>2</th>\n",
              "      <td>1451.119995</td>\n",
              "      <td>2027.484253</td>\n",
              "      <td>1604.146851</td>\n",
              "    </tr>\n",
              "    <tr>\n",
              "      <th>3</th>\n",
              "      <td>1435.959961</td>\n",
              "      <td>2014.899658</td>\n",
              "      <td>1644.415771</td>\n",
              "    </tr>\n",
              "    <tr>\n",
              "      <th>4</th>\n",
              "      <td>1431.719971</td>\n",
              "      <td>2055.563965</td>\n",
              "      <td>1747.197876</td>\n",
              "    </tr>\n",
              "    <tr>\n",
              "      <th>...</th>\n",
              "      <td>...</td>\n",
              "      <td>...</td>\n",
              "      <td>...</td>\n",
              "    </tr>\n",
              "    <tr>\n",
              "      <th>246</th>\n",
              "      <td>2466.090088</td>\n",
              "      <td>2342.053955</td>\n",
              "      <td>2207.498779</td>\n",
              "    </tr>\n",
              "    <tr>\n",
              "      <th>247</th>\n",
              "      <td>2482.850098</td>\n",
              "      <td>2339.075439</td>\n",
              "      <td>2168.025635</td>\n",
              "    </tr>\n",
              "    <tr>\n",
              "      <th>248</th>\n",
              "      <td>2491.399902</td>\n",
              "      <td>2361.711670</td>\n",
              "      <td>2176.000000</td>\n",
              "    </tr>\n",
              "    <tr>\n",
              "      <th>249</th>\n",
              "      <td>2521.600098</td>\n",
              "      <td>2349.500000</td>\n",
              "      <td>2213.149902</td>\n",
              "    </tr>\n",
              "    <tr>\n",
              "      <th>250</th>\n",
              "      <td>2513.929932</td>\n",
              "      <td>2364.600098</td>\n",
              "      <td>2244.899902</td>\n",
              "    </tr>\n",
              "  </tbody>\n",
              "</table>\n",
              "<p>250 rows × 3 columns</p>\n",
              "</div>"
            ],
            "text/plain": [
              "          Google          HUL     Reliance\n",
              "0    1419.849976  2033.386597  1603.352539\n",
              "1    1442.719971  2025.630859  1606.480469\n",
              "2    1451.119995  2027.484253  1604.146851\n",
              "3    1435.959961  2014.899658  1644.415771\n",
              "4    1431.719971  2055.563965  1747.197876\n",
              "..           ...          ...          ...\n",
              "246  2466.090088  2342.053955  2207.498779\n",
              "247  2482.850098  2339.075439  2168.025635\n",
              "248  2491.399902  2361.711670  2176.000000\n",
              "249  2521.600098  2349.500000  2213.149902\n",
              "250  2513.929932  2364.600098  2244.899902\n",
              "\n",
              "[250 rows x 3 columns]"
            ]
          },
          "metadata": {
            "tags": []
          },
          "execution_count": 6
        }
      ]
    },
    {
      "cell_type": "markdown",
      "metadata": {
        "id": "LfSZn-LAgw55"
      },
      "source": [
        "Calculating logarithmic returns of each day and dropping Nan values from the dataset"
      ]
    },
    {
      "cell_type": "code",
      "metadata": {
        "colab": {
          "base_uri": "https://localhost:8080/"
        },
        "id": "jRLNAOwowpRv",
        "outputId": "efb62a69-5b5b-46ce-838d-9bb19242ffbf"
      },
      "source": [
        "\n",
        "stocks=np.log(stocks/stocks.shift(1))\n",
        "#stocks.dropna(inplace=True)\n",
        "stocks.shape"
      ],
      "execution_count": 7,
      "outputs": [
        {
          "output_type": "execute_result",
          "data": {
            "text/plain": [
              "(250, 3)"
            ]
          },
          "metadata": {
            "tags": []
          },
          "execution_count": 7
        }
      ]
    },
    {
      "cell_type": "code",
      "metadata": {
        "id": "TiMjZFA6yCXJ",
        "colab": {
          "base_uri": "https://localhost:8080/",
          "height": 297
        },
        "outputId": "289fa9a0-4319-4510-dc06-dc6ec4827bdb"
      },
      "source": [
        "stocks.describe()"
      ],
      "execution_count": null,
      "outputs": [
        {
          "output_type": "execute_result",
          "data": {
            "text/html": [
              "<div>\n",
              "<style scoped>\n",
              "    .dataframe tbody tr th:only-of-type {\n",
              "        vertical-align: middle;\n",
              "    }\n",
              "\n",
              "    .dataframe tbody tr th {\n",
              "        vertical-align: top;\n",
              "    }\n",
              "\n",
              "    .dataframe thead th {\n",
              "        text-align: right;\n",
              "    }\n",
              "</style>\n",
              "<table border=\"1\" class=\"dataframe\">\n",
              "  <thead>\n",
              "    <tr style=\"text-align: right;\">\n",
              "      <th></th>\n",
              "      <th>Google</th>\n",
              "      <th>HUL</th>\n",
              "      <th>Reliance</th>\n",
              "    </tr>\n",
              "  </thead>\n",
              "  <tbody>\n",
              "    <tr>\n",
              "      <th>count</th>\n",
              "      <td>249.000000</td>\n",
              "      <td>249.000000</td>\n",
              "      <td>249.000000</td>\n",
              "    </tr>\n",
              "    <tr>\n",
              "      <th>mean</th>\n",
              "      <td>0.002294</td>\n",
              "      <td>0.000606</td>\n",
              "      <td>0.001352</td>\n",
              "    </tr>\n",
              "    <tr>\n",
              "      <th>std</th>\n",
              "      <td>0.017835</td>\n",
              "      <td>0.012752</td>\n",
              "      <td>0.019224</td>\n",
              "    </tr>\n",
              "    <tr>\n",
              "      <th>min</th>\n",
              "      <td>-0.058155</td>\n",
              "      <td>-0.038754</td>\n",
              "      <td>-0.090118</td>\n",
              "    </tr>\n",
              "    <tr>\n",
              "      <th>25%</th>\n",
              "      <td>-0.006450</td>\n",
              "      <td>-0.007164</td>\n",
              "      <td>-0.009372</td>\n",
              "    </tr>\n",
              "    <tr>\n",
              "      <th>50%</th>\n",
              "      <td>0.002892</td>\n",
              "      <td>-0.000842</td>\n",
              "      <td>0.001949</td>\n",
              "    </tr>\n",
              "    <tr>\n",
              "      <th>75%</th>\n",
              "      <td>0.012518</td>\n",
              "      <td>0.009287</td>\n",
              "      <td>0.011730</td>\n",
              "    </tr>\n",
              "    <tr>\n",
              "      <th>max</th>\n",
              "      <td>0.071353</td>\n",
              "      <td>0.042792</td>\n",
              "      <td>0.068245</td>\n",
              "    </tr>\n",
              "  </tbody>\n",
              "</table>\n",
              "</div>"
            ],
            "text/plain": [
              "           Google         HUL    Reliance\n",
              "count  249.000000  249.000000  249.000000\n",
              "mean     0.002294    0.000606    0.001352\n",
              "std      0.017835    0.012752    0.019224\n",
              "min     -0.058155   -0.038754   -0.090118\n",
              "25%     -0.006450   -0.007164   -0.009372\n",
              "50%      0.002892   -0.000842    0.001949\n",
              "75%      0.012518    0.009287    0.011730\n",
              "max      0.071353    0.042792    0.068245"
            ]
          },
          "metadata": {
            "tags": []
          },
          "execution_count": 234
        }
      ]
    },
    {
      "cell_type": "code",
      "metadata": {
        "colab": {
          "base_uri": "https://localhost:8080/",
          "height": 279
        },
        "id": "Ky9okFZ0vqSq",
        "outputId": "4bb0f487-ebf3-4a13-cc24-d6286acc90d5"
      },
      "source": [
        "plt.plot(google,label=\"Google\")\n",
        "plt.plot(hul,label=\"Hindustan Unilever\")\n",
        "plt.plot(rel,label=\"Reliance Industries\")\n",
        "plt.legend()\n",
        "plt.xlabel(\"Days\")\n",
        "plt.ylabel(\"Adjusted Closing Price\")\n",
        "plt.show()"
      ],
      "execution_count": 11,
      "outputs": [
        {
          "output_type": "display_data",
          "data": {
            "image/png": "[encoded data removed]",
            "text/plain": [
              "<Figure size 432x288 with 1 Axes>"
            ]
          },
          "metadata": {
            "tags": [],
            "needs_background": "light"
          }
        }
      ]
    },
    {
      "cell_type": "markdown",
      "metadata": {
        "id": "mboP6zKCxX4f"
      },
      "source": [
        "## Defining various functions "
      ]
    },
    {
      "cell_type": "code",
      "metadata": {
        "id": "Kh_9GqQmE9sx"
      },
      "source": [
        "def portfolio_return(weights):\n",
        "  return np.dot(weights,er)\n",
        "def portfolio_std(weights):\n",
        "  return np.dot(np.dot(stocks.cov(),weights),weights)**(1/2)*np.sqrt(249)\n",
        "\n"
      ],
      "execution_count": null,
      "outputs": []
    },
    {
      "cell_type": "code",
      "metadata": {
        "id": "Amg8oOFEGsyn"
      },
      "source": [
        "def create():\n",
        "  wts=np.random.random(3)\n",
        "  wts/=wts.sum()\n",
        "  return wts\n",
        "\n"
      ],
      "execution_count": null,
      "outputs": []
    },
    {
      "cell_type": "markdown",
      "metadata": {
        "id": "XyTaPTzbxDyF"
      },
      "source": [
        "### Calculating returns and standard deviation for random weights ."
      ]
    },
    {
      "cell_type": "code",
      "metadata": {
        "id": "RybTS3VDSEH7"
      },
      "source": [
        "returns=[]\n",
        "std=[]\n",
        "w=[]  \n",
        "\n",
        "for i in range(500):\n",
        "  wt=create()\n",
        "  returns.append(portfolio_return(wt))\n",
        "  std.append(portfolio_std(wt))\n",
        "  w.append(wt)\n"
      ],
      "execution_count": null,
      "outputs": []
    },
    {
      "cell_type": "markdown",
      "metadata": {
        "id": "t7FGCxXiwv4c"
      },
      "source": [
        "## **Plotting Scatter Plot**"
      ]
    },
    {
      "cell_type": "code",
      "metadata": {
        "colab": {
          "base_uri": "https://localhost:8080/",
          "height": 296
        },
        "id": "ws6kYIECX1nW",
        "outputId": "8e6d5c12-dbe9-4bae-f688-9eedcceb9421"
      },
      "source": [
        "plt.scatter(std,returns)\n",
        "plt.scatter(min(std),returns[std.index(min(std))],c=\"yellow\")\n",
        "plt.scatter(stocks.std.iloc[0]*np.sqrt(252),stocks.mean.iloc[0])\n",
        "plt.scatter()\n",
        "plt.title(\"Efficient Frontier\")\n",
        "plt.xlabel(\"Portfolio_std\")\n",
        "plt.ylabel(\"Portfolio_return\")\n",
        "plt.show()"
      ],
      "execution_count": null,
      "outputs": [
        {
          "output_type": "display_data",
          "data": {
            "image/png": "[encoded data removed]",
            "text/plain": [
              "<Figure size 432x288 with 1 Axes>"
            ]
          },
          "metadata": {
            "tags": [],
            "needs_background": "light"
          }
        }
      ]
    },
    {
      "cell_type": "markdown",
      "metadata": {
        "id": "siFpB4row77U"
      },
      "source": [
        "## Ideal weights for the portfolio"
      ]
    },
    {
      "cell_type": "code",
      "metadata": {
        "colab": {
          "base_uri": "https://localhost:8080/"
        },
        "id": "llhQ-9pUeQ_P",
        "outputId": "5f8de982-9466-4057-fbec-34bae5110c33"
      },
      "source": [
        "print(w[std.index(min(std))])"
      ],
      "execution_count": null,
      "outputs": [
        {
          "output_type": "stream",
          "text": [
            "[0.27355023 0.52020329 0.20624647]\n"
          ],
          "name": "stdout"
        }
      ]
    },
    {
      "cell_type": "markdown",
      "metadata": {
        "id": "CXUji174xkF7"
      },
      "source": [
        "Hence , We obtain a distribution of weights for three different companies , The amount of share for each is as follows :\n",
        "\n",
        "**Google** : **27.355023%**\n",
        "\n",
        "**Hindustam Unilever** : **52.020329%**\n",
        "\n",
        "**Reliance Industries** : **20.624647%**"
      ]
    }
  ]
}